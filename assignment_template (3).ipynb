{
 "cells": [
  {
   "cell_type": "code",
   "execution_count": 5,
   "metadata": {},
   "outputs": [],
   "source": [
    "NAME = \"Camiel Schers\"\n",
    "COLLABORATORS = \"Shivani Save\""
   ]
  },
  {
   "cell_type": "markdown",
   "metadata": {},
   "source": [
    "---"
   ]
  },
  {
   "cell_type": "markdown",
   "metadata": {},
   "source": [
    "# Final Assignment AEA 1\n",
    "* Deadline: 9 january, 2023 (11.59 am). \n",
    "\n",
    "|Name|SNR|ANR|\n",
    "|----|---|----|\n",
    "|Camiel Schers|2026668|u684881|\n",
    "|Shivani Save|2088199|u497818|\n",
    "\n"
   ]
  },
  {
   "cell_type": "code",
   "execution_count": 1,
   "metadata": {},
   "outputs": [],
   "source": [
    "import pandas as pd\n",
    "import numpy as np\n",
    "import pymc3 as pm\n",
    "import matplotlib.pyplot as plt\n",
    "import seaborn as sns\n",
    "import scipy as sp\n",
    "import random\n",
    "\n",
    "#plt.style.use('seaborn')\n",
    "#%matplotlib inline"
   ]
  },
  {
   "cell_type": "markdown",
   "metadata": {
    "deletable": false,
    "jp-MarkdownHeadingCollapsed": true,
    "nbgrader": {
     "checksum": "84c7d0d85d8fb5e0073f3053f9bedf5a",
     "grade": true,
     "grade_id": "cell-8cbf4938fbebbb6e",
     "locked": false,
     "points": 0.5,
     "schema_version": 1,
     "solution": true
    },
    "tags": []
   },
   "source": [
    "# Paper -  The effect of financial repression and enforcement on entrepreneurship and economic development.\n",
    "\n",
    "\n",
    "We have chosen to discuss the Antunes et al. (2008) paper called: The effect of financial repression and enforcement on entrepreneurship and economic development. \n",
    "\n",
    "This paper utilizes a general equilibrium model with heterogeneous agents (with respect to wealth and ability), and shows that differences across countries in intermediation costs and enforcement generate differences in occupational choice, firm size, credit, output and income inequality. \n",
    "\n",
    "Using independent measures of intermediation costs and enforcement, financial frictions can account for part of the differences in international income levels: counterfactual exercises using φ de facto show that financial market imperfections explain almost the whole output per capita gap for some European countries (France, Italy and Greece), and a significant fraction for some Latin American countries (Brazil, Mexico and Argentina) and transition economies (Russia and Poland).\n",
    "\n",
    "The quantitative implications of financial frictions depend on whether the interest rate is endogenous or\n",
    "exogenous, with the effects on output typically more pronounced when the interest rate is exogenous. An\n",
    "unconstrained corporate sector tends to exacerbate the impact of financial frictions on output, because\n",
    "corporate firms are not necessarily more efficient than some of the constrained entrepreneurs. "
   ]
  },
  {
   "cell_type": "markdown",
   "metadata": {
    "tags": []
   },
   "source": [
    "# Research question \n"
   ]
  },
  {
   "cell_type": "markdown",
   "metadata": {
    "deletable": false,
    "nbgrader": {
     "checksum": "b350c3082e112a5b2f1f6db0481fa5bd",
     "grade": true,
     "grade_id": "cell-7a61a5e9e6991ff4",
     "locked": false,
     "points": 0.5,
     "schema_version": 1,
     "solution": true
    }
   },
   "source": [
    "We have chosen the following research question: Does inflation affect the occupational choice of individuals especially dependending on their capital from inheritance?\n",
    "\n",
    "The model from this paper analyses the impact of market firctions like τ and 𝜙 on the occupational choice of the individual. Through our extension we would like to observe if there is an impact of the level of capital optimisation on the occupational choice of an individual and if this changes after increased inflation."
   ]
  },
  {
   "cell_type": "markdown",
   "metadata": {},
   "source": [
    "# Motivation\n"
   ]
  },
  {
   "cell_type": "markdown",
   "metadata": {
    "deletable": false,
    "nbgrader": {
     "checksum": "ab93f4d26eb3e0bcf88927ee71df6b63",
     "grade": true,
     "grade_id": "cell-3d71712c92143820",
     "locked": false,
     "points": 0.5,
     "schema_version": 1,
     "solution": true
    }
   },
   "source": [
    "The motivation for this question stems from the recent economic activitiy that the world has witnessed. Recently, there has been a rise in the gas prices as a result of the Russio-Ukarainian war. The increase in inflation as a consequence of this development, might lead subjects (economic agents) to more thouroughly consider their employment type. Will they tend to move towards a more safe haven of a 'worker' job, or will they be better off by taking risks as an entrepreneur. We believe that in times of economic distress an important question is what to do with you capital/money, keep it in a financial intermediary and have a steady income from a job or invest this capital in a project? \n",
    "This research question is relevant since it can shape a picture on occupational choice for an individual to make. With the labour market being tight as it is today, the results might help future policy with regards to employment and inflation.\n"
   ]
  },
  {
   "cell_type": "markdown",
   "metadata": {},
   "source": [
    "# Preview of the answers"
   ]
  },
  {
   "cell_type": "markdown",
   "metadata": {
    "deletable": false,
    "nbgrader": {
     "checksum": "938eb25dc709a2252d7013dc1cd8176a",
     "grade": true,
     "grade_id": "cell-1b3df4385bba508d",
     "locked": false,
     "points": 0.5,
     "schema_version": 1,
     "solution": true
    }
   },
   "source": [
    "Our analysis below will show that the occupational choice of an individual will be affected by the capital inherited as well as how he is able to optimize his capital. However there is no change in behavioural choice made by the individual under inflation. Inspite of inflation, at a lower capital level, an individual will choose to work as part of the labor force. By becoming an entrepreneur he will not be optimizing his capital for the profits that he will make.\n"
   ]
  },
  {
   "cell_type": "markdown",
   "metadata": {},
   "source": [
    "# Main assumptions \n"
   ]
  },
  {
   "cell_type": "markdown",
   "metadata": {
    "deletable": false,
    "nbgrader": {
     "checksum": "2e95c3f2ef005a63968a0ade420f5af7",
     "grade": true,
     "grade_id": "cell-d84f19967b2baa1d",
     "locked": false,
     "points": 0.5,
     "schema_version": 1,
     "solution": true
    }
   },
   "source": [
    "The main assumptions of the model are: \n",
    "- There are only entrepreneurs and workers in the market.\n",
    "- An individualsonly has his bequest and no other initial savings.\n",
    "- An agent’s talent for managing is not hereditary and $(b^{i}_{t}, x^{i}_{t})$ is public information.\n",
    "\n",
    "\n",
    "\n",
    "- For the purpose of our extensions, we make one additional assumption. Individuals only have acess to their inheritance as a form of capital, and have no acess to any external sources of finance. "
   ]
  },
  {
   "cell_type": "markdown",
   "metadata": {},
   "source": [
    "# Model in the paper  & Python code\n",
    "\n",
    "\n",
    "*Note*: below we will combine model description and python code.\n"
   ]
  },
  {
   "cell_type": "markdown",
   "metadata": {
    "nbgrader": {
     "checksum": "2e95c3f2ef005a63968a0ade420f5af7",
     "grade": true,
     "grade_id": "cell-d84f19967b2baa1d",
     "locked": false,
     "points": 0.5,
     "schema_version": 1,
     "solution": true
    },
    "tags": []
   },
   "source": [
    "We assume an individual affects two time periods. One in which he consumes and the other where he leaves a bequest for his offspring. Every individual is identified by their bequest and their ability as an entrpreneur. i.e. $(b^{i}_{t},x^{i}_{t})$ . \n",
    "\n",
    "An entrepreneurs output $y$ i.e. the ablility to produce a single consumption good in the economy depends upon labor $n$ , capital $k$ and their inherint talent $x$ . Therefore \n",
    "\n",
    "\\begin{equation}\n",
    "y_i = x_i k_i^α n_i^β\n",
    "\\end{equation}\n",
    "Where α , β > 0 and  α + β < 1.\n",
    "\n",
    "\n",
    "An entrepreneur maximizes his profits as a function of capital $k$ and wages $w$ :  \n",
    "\\begin{equation}\n",
    "π(k,x;w) = \\max_{{n}}  x k^α n^β-wn\n",
    "\\end{equation}\n",
    "Where α,β > 0 and  α + β < 1.\n",
    "\n",
    "The optimum labor employment by the entrepreneur can be derived as: \n",
    "\n",
    "\\begin{equation}\n",
    "n_i^* = (\\frac{β x_i k_i^α}{w}) ^ \\frac{1}{1-β}\n",
    "\\end{equation}\n",
    "\n",
    "Thus the profit function derived by substituting for the optimum labor employment is:\n",
    "\\begin{equation}\n",
    "π_i(k_i,x_i;w) = (1-β) (x_i k_i^α)^\\frac{1}{1-β} (\\frac{β}{w})^\\frac{β}{1-β}\n",
    "\\end{equation}\n",
    "\n",
    "\n",
    "\n",
    "Usually invsetors have two choices to invest their bequest wealth. They can either deposit this in a financial internidiary and earn  deposit rate of $r$ or use the bequest to start a business where in he borrows the remaining capital at a loan rate of  $r_{B}$ . \n",
    "\n",
    "\\begin{equation}\n",
    "r_B = r + τ\n",
    "\\end{equation}\n",
    "\n",
    "where τ represents the cost of financial intermidiary.\n",
    "Borrowers canot commit ex-ante to repay and thus there is a chance of default. This would result in an enforcement penalty of 𝛷. \n",
    "\n",
    "Thus an entrepreneur has two options, to either undertake a project by investing his own bequest and no external finance, in which case the entrpreneur maximizes: \n",
    "\n",
    "\\begin{equation}\n",
    "\\max_{{k_i}} =π_i ( k_i,x_i; w) - (1 + r) k_i\n",
    "\\end{equation}\n",
    "\n",
    "The unconstarined capital optimzation can written as: \n",
    "\\begin{equation}\n",
    "k_u^* = (x_i (\\frac{β}{w})^β  (\\frac{α}{1 + r})^{1-β})^\\frac{1}{1 - α - β}\n",
    "\\end{equation}\n",
    "\n",
    "However it is not necessary that the entrepreneurs initial wealth will be sufficient. Assume he borrows $l_i$ wealth externally. Thus \n",
    "\\begin{equation}\n",
    "k_i = b_i + l_i\n",
    "\\end{equation}\n",
    "\n",
    "The optimization than becomes:\n",
    "\\begin{equation}\n",
    "\\max_{{l_i}} =π_i (b_i + l_i ,x_i; w) - (1 + r+ τ) l_i\n",
    "\\end{equation}\n",
    "\n",
    "This optimization is subject to \n",
    "\n",
    "\\begin{equation}\n",
    "𝜙 π (b_i + l_i ,x_i; w) ≥ (1 + r+ τ) l_i\n",
    "\\end{equation}\n",
    "\n",
    "\n",
    "An agent compares $ π(k,x;w)$ against $w$ and chooses which profession to choose\n",
    "\n",
    "- a worker, if $ w > π_{i}$\n",
    "- an entrepreneur, if $π_{i} > w $\n",
    "\n",
    "\n",
    "\n",
    "First, we introduce the profit maximiziation function for the optimum labor employment into Pyhton. Which translates to code as such:\n",
    "\n",
    "\n",
    "\n",
    " \n",
    "\n",
    "\n",
    "\n",
    "\n",
    "\n",
    "\n",
    "\n"
   ]
  },
  {
   "cell_type": "code",
   "execution_count": 2,
   "metadata": {},
   "outputs": [],
   "source": [
    "def profit_max(x,k,w):\n",
    "    return (1-β)*((x*k**α)**(1/1-β))*((β/w)**(β/1-β))"
   ]
  },
  {
   "cell_type": "markdown",
   "metadata": {},
   "source": [
    "Adhering to the paper, the parameter values are chosen by the authors. These values for the parameters are the so-called 'baseline economy'. We will use these values to start analysis from now on. See table with (calibrated) values below.\n"
   ]
  },
  {
   "cell_type": "code",
   "execution_count": 3,
   "metadata": {},
   "outputs": [
    {
     "name": "stdout",
     "output_type": "stream",
     "text": [
      "╒══════════════╤══════════╤════════════════════════════════════════════════════════════════════════════════════════════════════════════════════════════╕\n",
      "│ Parameters   │   Values │ Comment/Observation                                                                                                        │\n",
      "╞══════════════╪══════════╪════════════════════════════════════════════════════════════════════════════════════════════════════════════════════════════╡\n",
      "│ beta         │    0.55  │ Labor share based on Gollin (2002)                                                                                         │\n",
      "│ alpha        │    0.35  │ Capital share based on Gollin (2002)                                                                                       │\n",
      "│ tau          │    0.005 │ Intermediation cost based on Demirg¨u¸c-Kunt and Huizinga (1999)                                                           │\n",
      "│ gamma        │    0.94  │ Calibrated to match the U.S. historical Post-War return on government bonds (about 2%, International Financial Statistics) │\n",
      "│ phi          │    0.26  │ Calibrated to match the percent of entrepreneurs over the total population (about 9%) based on Quadrini (1999)             │\n",
      "│ epsilon      │    4.422 │ Calibrated to match the entrepreneurial earnings Gini index of 45% (see Quadrini (1999))                                   │\n",
      "╘══════════════╧══════════╧════════════════════════════════════════════════════════════════════════════════════════════════════════════════════════════╛\n"
     ]
    }
   ],
   "source": [
    "from tabulate import tabulate \n",
    "\n",
    "data = [[\"beta\", \"0.55\", \"Labor share based on Gollin (2002)\"],\n",
    "        [\"alpha\", \"0.35\", \"Capital share based on Gollin (2002)\"],\n",
    "        [\"tau\", \"0.005\", \"Intermediation cost based on Demirg¨u¸c-Kunt and Huizinga (1999)\"],\n",
    "        [\"gamma\", \"0.94\", \"Calibrated to match the U.S. historical Post-War return on government bonds (about 2%, International Financial Statistics)\"],\n",
    "        [\"phi\", \"0.26\", \" Calibrated to match the percent of entrepreneurs over the total population (about 9%) based on Quadrini (1999)\"],\n",
    "        [\"epsilon\", \"4.422\", \"Calibrated to match the entrepreneurial earnings Gini index of 45% (see Quadrini (1999))\"]]\n",
    "\n",
    "col_names = [\"Parameters\", \"Values\", \"Comment/Observation\"]\n",
    "print(tabulate(data, headers=col_names, tablefmt=\"fancy_outline\", showindex=\"never\"))"
   ]
  },
  {
   "cell_type": "markdown",
   "metadata": {},
   "source": [
    "Incorporating these parameter values (beta and alpha) into our profit maximization formula gives: \n"
   ]
  },
  {
   "cell_type": "code",
   "execution_count": 4,
   "metadata": {},
   "outputs": [],
   "source": [
    "β = 0.55\n",
    "α = 0.35"
   ]
  },
  {
   "cell_type": "markdown",
   "metadata": {
    "deletable": false,
    "nbgrader": {
     "checksum": "3dd4c02198f7b81f943268cb3d0a12b2",
     "grade": true,
     "grade_id": "cell-a2231ee7e6d4e686",
     "locked": false,
     "points": 7,
     "schema_version": 1,
     "solution": true
    }
   },
   "source": [
    "Now that we have our profit maximizing function, we can start analysis with different kinds of compositions. "
   ]
  },
  {
   "cell_type": "markdown",
   "metadata": {},
   "source": [
    "We want to look at the relationship between the unconstrained (no-financial constraints) capital\n",
    "optimization and the profit function. First, let us define a range for values of k (capital), which in our analysis is set to values ranging from 0 to 1000. "
   ]
  },
  {
   "cell_type": "markdown",
   "metadata": {},
   "source": [
    "According to the authors, the variable $x_i$ comes from a so-called 'cumulative normal distribution'. We thus specify that $x_i$ is in a coded linear space, and perform the ss.norm.cdf command. This \"cdf\" stands for cumulative normal distribution. Also, we take (assume) a normal distribution for w (wage), with mean 50 and standard deviation of 15. In this way the wages lie somewhat correct between 0 and 100. "
   ]
  },
  {
   "cell_type": "code",
   "execution_count": 5,
   "metadata": {},
   "outputs": [
    {
     "data": {
      "image/png": "[encoded data removed]",
      "text/plain": [
       "<Figure size 432x288 with 1 Axes>"
      ]
     },
     "metadata": {
      "needs_background": "light"
     },
     "output_type": "display_data"
    }
   ],
   "source": [
    "#range for capital\n",
    "range_k = np.arange(0,1000)\n",
    "\n",
    "#data set for individual ability\n",
    "import scipy.stats as ss\n",
    "x = np.linspace(-4,4,1000)\n",
    "y = ss.norm.cdf(x)\n",
    "plt.plot(x,y, color = 'cyan')\n",
    "plt.title(\"Relationship between x and y\")\n",
    "range_x = y\n",
    "\n",
    "#data for the wage rate in the market.\n",
    "w_1= np.array(sorted(pm.Normal.dist(50,15).random(size=1000),reverse = True))\n",
    "\n",
    "# Deposit rate\n",
    "r=0.02"
   ]
  },
  {
   "cell_type": "markdown",
   "metadata": {},
   "source": [
    "\n",
    "\n",
    "\n",
    "\n",
    "Optimum unconstrained capital function is defined as follows:\n",
    "\n",
    "\\begin{equation}\n",
    "k_u^* = (x_i (\\frac{β}{w})^β  (\\frac{α}{1 + r})^{1-β})^\\frac{1}{1 - α - β}\n",
    "\\end{equation}"
   ]
  },
  {
   "cell_type": "code",
   "execution_count": 6,
   "metadata": {},
   "outputs": [],
   "source": [
    "def k_op(w,x,r):\n",
    "    a=0.55\n",
    "    b=0.35\n",
    "    return (x*(b/w)**b * (a/(1+r))**(1-b) )**(1/(1-a-b))\n",
    "df0 = k_op(w_1,range_x,0.02)"
   ]
  },
  {
   "cell_type": "markdown",
   "metadata": {},
   "source": [
    " Below we have an histogram for the wage distribution."
   ]
  },
  {
   "cell_type": "code",
   "execution_count": 7,
   "metadata": {},
   "outputs": [
    {
     "data": {
      "image/png": "[encoded data removed]",
      "text/plain": [
       "<Figure size 432x288 with 1 Axes>"
      ]
     },
     "metadata": {
      "needs_background": "light"
     },
     "output_type": "display_data"
    }
   ],
   "source": [
    "w_1= np.array(sorted(pm.Normal.dist(50,15).random(size=1000),reverse = True))\n",
    "plt.hist(w_1, bins =30, alpha=0.5,\n",
    "         histtype='stepfilled', color='deeppink',\n",
    "         edgecolor='blue')\n",
    "plt.title(\"Histogam for wage distribution\")\n",
    "plt.xlabel(\"wages\")\n",
    "plt.ylabel(\"number of individuals\");"
   ]
  },
  {
   "cell_type": "markdown",
   "metadata": {},
   "source": [
    "See above the histogram of wages. See below the histogram of maximum profit. "
   ]
  },
  {
   "cell_type": "code",
   "execution_count": 8,
   "metadata": {},
   "outputs": [
    {
     "data": {
      "image/png": "[encoded data removed]",
      "text/plain": [
       "<Figure size 432x288 with 1 Axes>"
      ]
     },
     "metadata": {
      "needs_background": "light"
     },
     "output_type": "display_data"
    }
   ],
   "source": [
    "profit_max(range_x, df0, w_1)\n",
    "plt.hist(profit_max(range_x, range_k, w_1),bins=15, color='crimson', edgecolor= 'black')\n",
    "plt.xlabel(\"max profits\")\n",
    "plt.ylabel(\"number of individuals\")\n",
    "plt.title(\"Histogram depicting the spread of entrepreneurs' profits \")\n",
    "plt.show()"
   ]
  },
  {
   "cell_type": "markdown",
   "metadata": {},
   "source": [
    "In this histogram, we see two peaks. these can be classified as observations for high profits and no profits. This would then mean that individuals either invest their capital, become entrepreneurs and earn higher profits or individuals choose to become a part of the labor force and earn wages, making no profit on their capital. These are the low profit levels on the left side of the histogram."
   ]
  },
  {
   "cell_type": "code",
   "execution_count": 9,
   "metadata": {},
   "outputs": [
    {
     "data": {
      "image/png": "[encoded data removed]",
      "text/plain": [
       "<Figure size 432x288 with 1 Axes>"
      ]
     },
     "metadata": {
      "needs_background": "light"
     },
     "output_type": "display_data"
    }
   ],
   "source": [
    "plt.plot(range_k, profit_max(range_x,range_k, w_1), color='purple')\n",
    "plt.title(\"Relationship between capital and max. profits\")\n",
    "plt.xlabel(\"inherited capital (bequest)\")\n",
    "plt.ylabel(\"maximum profits\"); #plot(x,y)"
   ]
  },
  {
   "cell_type": "markdown",
   "metadata": {},
   "source": [
    "What can be derived from the graph above is the relationship between capital (inheretied bequest) and profits for the entrepreneural firm. Looking at the graph, it becomes clear that for people with lower bequests, it is only possible to obtain a lower amount of maximum profit. For subjects who inherit larger amounts of funds, increasingly higher profit are to be made when choosing the entrepreneurial occupation. The curve in the graph rises at a decreasing rate after capital values of around 400/500, indicating that above a certain threshold, additional capital will not increase maximum profits by as much as for people who are further left on the graph. E.g. a person going from 200 to 400 in capital see their max. profits rise from about 0.18 to 0.56 (211% increase), whereas a person going from 800 to 1000 in inherited capital, sees his/her max. profits rise from 1.25 to 1.35 (8% increase). "
   ]
  },
  {
   "cell_type": "markdown",
   "metadata": {},
   "source": [
    "Now, first, we are plotting the unconstrained capital optimization against the baseline profit to use for comparison later on."
   ]
  },
  {
   "cell_type": "code",
   "execution_count": 25,
   "metadata": {},
   "outputs": [
    {
     "name": "stderr",
     "output_type": "stream",
     "text": [
      "/tmp/ipykernel_5847/1409921737.py:4: RuntimeWarning: invalid value encountered in power\n",
      "  return (x*(b/w)**b * (a/(1+r))**(1-b) )**(1/(1-a-b))\n"
     ]
    },
    {
     "data": {
      "image/png": "[encoded data removed]",
      "text/plain": [
       "<Figure size 432x288 with 1 Axes>"
      ]
     },
     "metadata": {
      "needs_background": "light"
     },
     "output_type": "display_data"
    }
   ],
   "source": [
    "plt.plot(k_op(w_1,range_x,0.02), profit_max(range_x, df0, w_1) )\n",
    "plt.title(\"Relationship between optimum unconstrained capital and max. profits\")\n",
    "plt.xlabel(\"unconstrained capital optimization\")\n",
    "plt.ylabel(\"baseline profit\");"
   ]
  },
  {
   "cell_type": "markdown",
   "metadata": {},
   "source": [
    "What we derive from this graph is the relationship between unconstrained opttimum capital (inherited bequest) and profits for the entrepreneural firm. We can observe from the graph above that unconstrained capital is optimised only at high levels of profit, in other words, high levels of profits optimizes capital. The lower the profit of the firm, the lesser the optimial use of the capital. Thus a baseline profit where unconstrained capital is zero might encourage individuals not to become entrepreneurs and they will not be optimizing their capital if they do so.\n",
    "We can also observe there is a steep level of capital optimization as profits increase until profits become constant with increasing capital optimization."
   ]
  },
  {
   "cell_type": "markdown",
   "metadata": {},
   "source": [
    "Before starting with out extension of the model, we would like to show that optimizing can be done (as is requested in the list of components for final assignment), but does not generate compelling results. First, define again the function in question. We will optimize the unconstrained capital optimization problem."
   ]
  },
  {
   "cell_type": "markdown",
   "metadata": {},
   "source": [
    "* Another argument to supprot our above analysis regarding individual choices could be made using profit for the entrepreneur and the wages.\n"
   ]
  },
  {
   "cell_type": "code",
   "execution_count": 26,
   "metadata": {},
   "outputs": [],
   "source": [
    "def capital_optimization_problem(x_example,wage_example,r_example): \n",
    "    β = 0.55\n",
    "    α = 0.35\n",
    "    rate_example = 1.02\n",
    "    x_example = 0.5\n",
    "    return (x_example*((β/wage_example)**β)*((α/1+rate_example)**1-β))**(1/1-α-β)"
   ]
  },
  {
   "cell_type": "markdown",
   "metadata": {},
   "source": [
    "We assume a talent x(i) of 0.5 and a rate (r) of 1.02. What would be the optimal value of wage (w) to have profits maximized? See below."
   ]
  },
  {
   "cell_type": "code",
   "execution_count": 27,
   "metadata": {},
   "outputs": [
    {
     "data": {
      "image/png": "[encoded data removed]",
      "text/plain": [
       "<Figure size 432x288 with 1 Axes>"
      ]
     },
     "metadata": {
      "needs_background": "light"
     },
     "output_type": "display_data"
    }
   ],
   "source": [
    "wage_example = np.arange(0.1,100)\n",
    "x_range = np.arange(0.1,100.1)\n",
    "plt.axhline(0.7,c='k')\n",
    "plt.plot(x_range, [capital_optimization_problem(0.5,w,1.02) for w in x_range], color = 'darkgoldenrod') \n",
    "plt.title(\"Relationship profit maximization and wages\") \n",
    "plt.xlabel(\"wage\")\n",
    "plt.ylabel(\"profit maximization\");"
   ]
  },
  {
   "cell_type": "markdown",
   "metadata": {},
   "source": [
    "We specify ranges to start from 0.1 instead of 0, to avoid warnings that are generated because something is being divided by zero (RuntimeWarning: divide by zero encountered in double_scalars). \n",
    "\n",
    "Next, we optimize:"
   ]
  },
  {
   "cell_type": "code",
   "execution_count": 29,
   "metadata": {},
   "outputs": [],
   "source": [
    "from scipy import stats, optimize\n",
    "optimize.fsolve(lambda w: capital_optimization_problem(0.5,w,1.02),50);"
   ]
  },
  {
   "cell_type": "markdown",
   "metadata": {},
   "source": [
    "Obviously, this value is rather large. It basically means infinity. Why is this the case? As can be seen in the graph, the value of wage for which profit maximization is minimized is as high as possibly feasable. In reality, wages are kind of capped at a certain level. We could take the minus value (minus infinity) of wage, but common sense guards us against this. Also, simply looking at the plot tells us that for wage = 0, profit is maximized. This makes sense because people with 0 wages are probably entrepreneurs, that optimize profits due to their large inheritance. When wages are higher, people are workers, and their optimization is thus lower. "
   ]
  },
  {
   "cell_type": "markdown",
   "metadata": {
    "tags": []
   },
   "source": [
    "#### EXTENSION OF THE MODEL"
   ]
  },
  {
   "cell_type": "markdown",
   "metadata": {},
   "source": [
    "For our small extension of the model, we will introduce a new variable to the equation. This variable will be denoted by the letter 'f', and stands for inflation. We will try to estimate the occupational choice of an individual based on their inherited capital and the possible optimization of that capital. This will become more clear further on. First, we introduce this new variable. We estimated it to be 9% in The Netherlands for december 2022, based on recent numbers provided by Trading Economics. For official record of retrievement, [click here.](https://tradingeconomics.com/netherlands/inflationcpi#:~:text=6%2DMonth%20Low-,The%20Netherlands'%20annual%20inflation%20rate%20declined%20to%209.6%25%20in%20December,vs%2041.3%25%20in%20November)"
   ]
  },
  {
   "cell_type": "markdown",
   "metadata": {},
   "source": [
    "*Recollect:* For the purpose of our extensions, we make one additional assumption. Individuals only have acess to their inheritance as a form of capital, and have no acess to any external sources of finance. "
   ]
  },
  {
   "cell_type": "code",
   "execution_count": 30,
   "metadata": {},
   "outputs": [
    {
     "data": {
      "image/png": "[encoded data removed]",
      "text/plain": [
       "<Figure size 432x288 with 1 Axes>"
      ]
     },
     "metadata": {
      "needs_background": "light"
     },
     "output_type": "display_data"
    }
   ],
   "source": [
    "a = 0.55\n",
    "b = 0.35\n",
    "f = 0.09\n",
    "w =  np.array(sorted(pm.Normal.dist(60,10).random(size=1000),reverse = True))\n",
    "x = np.linspace(-4,4,1000)\n",
    "import scipy.stats as ss\n",
    "y = ss.norm.cdf(x)\n",
    "plt.plot(x,y, color='green')\n",
    "plt.title(\"Relationship between x and y\")\n",
    "range_x = y\n",
    "range_k = np.arange(0,1000) #from above.."
   ]
  },
  {
   "cell_type": "markdown",
   "metadata": {},
   "source": [
    "Next step is comparing the extensive (inflation adjusted) situation with the baseline. For that, we produce inflation corrected capital and profits. Remember that inflation rate is not some arbitrary number, but comes from the following [source](https://tradingeconomics.com/netherlands/inflationcpi#:~:text=6%2DMonth%20Low-,The%20Netherlands'%20annual%20inflation%20rate%20declined%20to%209.6%25%20in%20December,vs%2041.3%25%20in%20November). \n",
    "See below how we continue to construct our case. "
   ]
  },
  {
   "cell_type": "markdown",
   "metadata": {},
   "source": [
    "Specifying, once more for clarity, the deposit rate 'r' and inflation rate 'f'. Explanation of the following cel can be found below the cel."
   ]
  },
  {
   "cell_type": "code",
   "execution_count": 31,
   "metadata": {},
   "outputs": [],
   "source": [
    "r=0.02\n",
    "f= 0.09 \n",
    "w_inflation= w /1+f\n",
    "r_inflation = (1+r)*(1+f)"
   ]
  },
  {
   "cell_type": "markdown",
   "metadata": {},
   "source": [
    "Subsequently, we define optimum capital with inflation present. We do this by inserting inflation into the capital optimization equation as follows: \n",
    "\n",
    "Recall: optimum unconstrained capital function is defined as follows:\n",
    "\n",
    "\\begin{equation}\n",
    "k_u^* = (x_i (\\frac{β}{w})^β  (\\frac{α}{1 + r})^{1-β})^\\frac{1}{1 - α - β}\n",
    "\\end{equation}\n",
    "\n",
    "\n",
    "We:\n",
    "* Divide wage by (1+f) to get the inflation adjusted wage. \n",
    "* Multiply (1+r) with (1+f) to adjust rates for inflation.\n",
    "\n",
    "When inflation is expected to rise, interest rates on savings accounts, mortgages and consumer loans will normally increase to compensate the lender for this rising inflation.\n",
    "For a source about why rates change in this direction, please [click here.](https://www.homefinance.nl/marktrentes-economie/inflatie/) \n",
    "\n",
    "See below how the code looks after implementing this. "
   ]
  },
  {
   "cell_type": "code",
   "execution_count": 32,
   "metadata": {},
   "outputs": [],
   "source": [
    "def k_opinflation(w,x,r):\n",
    "    a=0.55\n",
    "    b=0.35\n",
    "    return (x*(b/w/(1+f))**b * (a/(1+r)*(1+f))**(1-b) )**(1/(1-a-b))"
   ]
  },
  {
   "cell_type": "markdown",
   "metadata": {},
   "source": [
    "Calculating inflation constrained optimum capital:"
   ]
  },
  {
   "cell_type": "code",
   "execution_count": 33,
   "metadata": {},
   "outputs": [],
   "source": [
    "df1= k_opinflation(w_inflation,range_x,r_inflation)"
   ]
  },
  {
   "cell_type": "markdown",
   "metadata": {},
   "source": [
    "Profit after adjusting for inflation follows as such:"
   ]
  },
  {
   "cell_type": "code",
   "execution_count": 34,
   "metadata": {},
   "outputs": [],
   "source": [
    "df2= profit_max(range_x, k_opinflation(w_inflation,range_x,r_inflation), w_inflation) "
   ]
  },
  {
   "cell_type": "markdown",
   "metadata": {},
   "source": [
    "Thereafter, we are plotting inflation constrained profit on inflation constrained capital. "
   ]
  },
  {
   "cell_type": "code",
   "execution_count": 35,
   "metadata": {},
   "outputs": [
    {
     "data": {
      "image/png": "[encoded data removed]",
      "text/plain": [
       "<Figure size 432x288 with 1 Axes>"
      ]
     },
     "metadata": {
      "needs_background": "light"
     },
     "output_type": "display_data"
    }
   ],
   "source": [
    "plt.plot(k_opinflation(w_inflation,range_x,r_inflation), profit_max(range_x, k_opinflation(w_inflation,range_x,r_inflation), w_inflation) )\n",
    "plt.title(\"Relationship between optimum inflation constrained capital and max. inflation constrained profits\")\n",
    "plt.xlabel(\"inflation constrained capital optimization\")\n",
    "plt.ylabel(\"inflation constrained profit\");"
   ]
  },
  {
   "cell_type": "markdown",
   "metadata": {},
   "source": [
    "##### Explanation and economic intuition:"
   ]
  },
  {
   "cell_type": "markdown",
   "metadata": {},
   "source": [
    "We may compare this graph to the baseline economy. If we do so, we see that in the case of inflation constrained capital optimization, curvature begins at a lower level of inflation constrained profits than in the baseline. The explanation for this lies in the fact that inflation eats into profit, capital, and wage all at once, and increases interest rates at the same time, resulting in reduced capital worth. It is not surprising that we see this result. Also, the curve is somewhat more gentle/smooth. We observe that at higher levels of capital optimzation, profits are not flat but continue increasing. This might indicate that a more gradual transition or hybrid occupational choice of individuals is also possible. \n",
    "\n",
    "Overall though, we see that the shape of the curve has stayed roughly the same, indicating that the relationship does not change dramatically. \n",
    "Subjects with high inheritance can optimize their capital easier, and thus make higher profits, and subjects with low inheritance can not optimize their capital (since it is too little) and probably choose to become a worker. In this regard, inflation does not matter that much. If there is something that can be said, it is that with inflation present, it takes lower profits (than baseline) to optimize capital.\n",
    "\n",
    " "
   ]
  },
  {
   "cell_type": "markdown",
   "metadata": {},
   "source": [
    "# Discussion and conclusion"
   ]
  },
  {
   "cell_type": "markdown",
   "metadata": {
    "deletable": false,
    "nbgrader": {
     "checksum": "52e1cf5783dd1971d265a8ea172e297a",
     "grade": true,
     "grade_id": "cell-4b5c9f698b295ad7",
     "locked": false,
     "points": 0.5,
     "schema_version": 1,
     "solution": true
    }
   },
   "source": [
    "Our result allow us to evaluate whether the capital inherited by an individual can predict the occupational choice for a given individual. Our result show that:\n",
    "- There is a clear relationship between capital and entrepreneurs' profits. At higher levels of capital, there are higher profits and at lower levels of capital there are lower profits, indicating an increased occupational choice to become an entrepreneur with higher capital.\n",
    "- We also see optimization of capital at higher levels of profits and not at lower profit levels, further indicating that at lower levels of capital when profit is less, an individual will not be getting optimum value from their cpaital (inheritance/bequest) by investing in a project. They will be better off working as part of the labor force.\n",
    "- After introducing inflation, we observe no change in the general trend. The higher the profits, the higher the optimization of inflation constrained capital, and at lower levels of profits, an individuals' inflation constrained capital is less optimised. Thus the occupational choice by an individual does not seem to change considerably after introducing inflation.\n",
    "\n"
   ]
  },
  {
   "cell_type": "markdown",
   "metadata": {},
   "source": [
    "Possible weaknesses in our approach are the fact that we make some strong assumptions, which do not reflect in any way reality. Take for example the assumption that an individual has to invest all of its capital into either one or the other. Invest nothing and become a worker, or invest it all and become entrepreneur. Also, the assumption that individuals have no access to external finance is rather hefty. \n",
    "\n",
    "Further research could focus on the effect of inflation with weaker assumptions. Also, one may find it interesting to look at the wage component of this paper. Regarding other possible directions of research, it would be exciting to look into the effect of education on occupational choice, and the effect of demographic characteristics (e.g. age, sex, cultural background, religion) on occupational choice. The goal of the paper by Antunes et al. (2008) is not to study analytically the path of economic development, occupational choice or inequality, but to investigate quantitatively how financial frictions affect these variables in the long run. So, similar research can be done with the aim of looking at short-run implications of financial frictions. Eleviation of these frictions could potentially lift individuals from their initial financial position to a better developed one. Higher profits might be the result of this. "
   ]
  },
  {
   "cell_type": "markdown",
   "metadata": {},
   "source": [
    "-----------------------------------------------------------------------------------------------------------------------------------------------------------------------------------------"
   ]
  }
 ],
 "metadata": {
  "kernelspec": {
   "display_name": "Python 3 (ipykernel)",
   "language": "python",
   "name": "python3"
  },
  "language_info": {
   "codemirror_mode": {
    "name": "ipython",
    "version": 3
   },
   "file_extension": ".py",
   "mimetype": "text/x-python",
   "name": "python",
   "nbconvert_exporter": "python",
   "pygments_lexer": "ipython3",
   "version": "3.9.7"
  },
  "toc": {
   "base_numbering": 1,
   "nav_menu": {},
   "number_sections": true,
   "sideBar": true,
   "skip_h1_title": false,
   "title_cell": "Table of Contents",
   "title_sidebar": "Contents",
   "toc_cell": false,
   "toc_position": {},
   "toc_section_display": true,
   "toc_window_display": true
  }
 },
 "nbformat": 4,
 "nbformat_minor": 4
}
